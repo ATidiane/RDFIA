{
 "cells": [
  {
   "cell_type": "markdown",
   "metadata": {},
   "source": [
    "# Support Vector Machine"
   ]
  },
  {
   "cell_type": "markdown",
   "metadata": {},
   "source": [
    "## Imports"
   ]
  },
  {
   "cell_type": "markdown",
   "metadata": {},
   "source": [
    "### Python and Sys"
   ]
  },
  {
   "cell_type": "code",
   "execution_count": 3,
   "metadata": {},
   "outputs": [
    {
     "name": "stderr",
     "output_type": "stream",
     "text": [
      "/Library/Frameworks/Python.framework/Versions/3.5/lib/python3.5/site-packages/tqdm/autonotebook/__init__.py:14: TqdmExperimentalWarning: Using `tqdm.autonotebook.tqdm` in notebook mode. Use `tqdm.tqdm` instead to force console mode (e.g. in jupyter console)\n",
      "  \" (e.g. in jupyter console)\", TqdmExperimentalWarning)\n"
     ]
    }
   ],
   "source": [
    "from tqdm.autonotebook import tqdm\n",
    "import numpy as np\n",
    "import pandas as pd\n",
    "import random"
   ]
  },
  {
   "cell_type": "markdown",
   "metadata": {},
   "source": [
    "###  Models and Visualisation"
   ]
  },
  {
   "cell_type": "code",
   "execution_count": 4,
   "metadata": {},
   "outputs": [],
   "source": [
    "import matplotlib\n",
    "import matplotlib.pyplot as plt\n",
    "%matplotlib inline  \n",
    "\n",
    "from sklearn.svm import SVC, LinearSVC\n",
    "from sklearn.multiclass import OneVsRestClassifier\n",
    "from sklearn.metrics import accuracy_score\n",
    "from sklearn.model_selection import GridSearchCV"
   ]
  },
  {
   "cell_type": "markdown",
   "metadata": {},
   "source": [
    "### Source files"
   ]
  },
  {
   "cell_type": "code",
   "execution_count": 5,
   "metadata": {},
   "outputs": [],
   "source": [
    "from tools import *"
   ]
  },
  {
   "cell_type": "markdown",
   "metadata": {},
   "source": [
    "## Loading and Splitting Data"
   ]
  },
  {
   "cell_type": "code",
   "execution_count": 6,
   "metadata": {},
   "outputs": [],
   "source": [
    "data = np.load(\"15_scenes_Xy.npz\", \"rb\")"
   ]
  },
  {
   "cell_type": "code",
   "execution_count": 10,
   "metadata": {},
   "outputs": [],
   "source": [
    "def train_val_test_split(data, train_size=0.7, val_size=0.1, seed=1337):\n",
    "    \"\"\"\n",
    "    \"\"\"\n",
    "    \n",
    "    X, y = data['X'], data['y']    \n",
    "    \n",
    "    train_ids, val_test_ids = compute_split(X.shape[0], pc=train_size, seed=seed)\n",
    "    val_ids,test_ids = compute_split(len(val_test_ids), pc=val_size)\n",
    "    \n",
    "    X_train, y_train = X[train_ids], y[train_ids]\n",
    "    X_val, y_val = X[val_ids], y[val_ids]\n",
    "    X_test, y_test = X[test_ids], y[test_ids]\n",
    "    \n",
    "    return X_train, X_val, X_test, y_train, y_val, y_test"
   ]
  },
  {
   "cell_type": "code",
   "execution_count": 11,
   "metadata": {},
   "outputs": [],
   "source": [
    "X_train, X_val, X_test, y_train, y_val, y_test = train_val_test_split(data)"
   ]
  },
  {
   "cell_type": "markdown",
   "metadata": {},
   "source": [
    "## Training SVM"
   ]
  },
  {
   "cell_type": "markdown",
   "metadata": {},
   "source": [
    "### C = 1"
   ]
  },
  {
   "cell_type": "code",
   "execution_count": 12,
   "metadata": {},
   "outputs": [],
   "source": [
    "ovr_linear_svc = OneVsRestClassifier(LinearSVC(random_state=42))\n",
    "ovr_linear_svc.fit(X_train, y_train);"
   ]
  },
  {
   "cell_type": "code",
   "execution_count": 13,
   "metadata": {},
   "outputs": [
    {
     "name": "stdout",
     "output_type": "stream",
     "text": [
      "Accuracy of Validation Set : 0.9104477611940298\n",
      "==========================\n"
     ]
    }
   ],
   "source": [
    "y_pred_val = ovr_linear_svc.predict(X_val)\n",
    "\n",
    "print(\"Accuracy of Validation Set : {}\\n\"\n",
    "      \"==========================\".format(\n",
    "          accuracy_score(y_val, y_pred_val)))"
   ]
  },
  {
   "cell_type": "markdown",
   "metadata": {},
   "source": [
    "### GridSearch"
   ]
  },
  {
   "cell_type": "code",
   "execution_count": 19,
   "metadata": {},
   "outputs": [],
   "source": [
    "ovr_linear_svc = OneVsRestClassifier(LinearSVC(random_state=42))\n",
    "params = {\"estimator__C\" : [0.005, 0.01, 0.05, 0.1, 1]}\n",
    "model_tuning = GridSearchCV(ovr_linear_svc, param_grid=params, cv=5, n_jobs=-1)\n",
    "model_tuning.fit(X_train, y_train);"
   ]
  },
  {
   "cell_type": "markdown",
   "metadata": {},
   "source": [
    "#### Best params"
   ]
  },
  {
   "cell_type": "code",
   "execution_count": 20,
   "metadata": {},
   "outputs": [
    {
     "name": "stderr",
     "output_type": "stream",
     "text": [
      "/Library/Frameworks/Python.framework/Versions/3.5/lib/python3.5/site-packages/sklearn/utils/deprecation.py:122: FutureWarning: You are accessing a training score ('mean_train_score'), which will not be available by default any more in 0.21. If you need training scores, please set return_train_score=True\n",
      "  warnings.warn(*warn_args, **warn_kwargs)\n",
      "/Library/Frameworks/Python.framework/Versions/3.5/lib/python3.5/site-packages/sklearn/utils/deprecation.py:122: FutureWarning: You are accessing a training score ('split0_train_score'), which will not be available by default any more in 0.21. If you need training scores, please set return_train_score=True\n",
      "  warnings.warn(*warn_args, **warn_kwargs)\n",
      "/Library/Frameworks/Python.framework/Versions/3.5/lib/python3.5/site-packages/sklearn/utils/deprecation.py:122: FutureWarning: You are accessing a training score ('split1_train_score'), which will not be available by default any more in 0.21. If you need training scores, please set return_train_score=True\n",
      "  warnings.warn(*warn_args, **warn_kwargs)\n",
      "/Library/Frameworks/Python.framework/Versions/3.5/lib/python3.5/site-packages/sklearn/utils/deprecation.py:122: FutureWarning: You are accessing a training score ('split2_train_score'), which will not be available by default any more in 0.21. If you need training scores, please set return_train_score=True\n",
      "  warnings.warn(*warn_args, **warn_kwargs)\n",
      "/Library/Frameworks/Python.framework/Versions/3.5/lib/python3.5/site-packages/sklearn/utils/deprecation.py:122: FutureWarning: You are accessing a training score ('split3_train_score'), which will not be available by default any more in 0.21. If you need training scores, please set return_train_score=True\n",
      "  warnings.warn(*warn_args, **warn_kwargs)\n",
      "/Library/Frameworks/Python.framework/Versions/3.5/lib/python3.5/site-packages/sklearn/utils/deprecation.py:122: FutureWarning: You are accessing a training score ('split4_train_score'), which will not be available by default any more in 0.21. If you need training scores, please set return_train_score=True\n",
      "  warnings.warn(*warn_args, **warn_kwargs)\n",
      "/Library/Frameworks/Python.framework/Versions/3.5/lib/python3.5/site-packages/sklearn/utils/deprecation.py:122: FutureWarning: You are accessing a training score ('std_train_score'), which will not be available by default any more in 0.21. If you need training scores, please set return_train_score=True\n",
      "  warnings.warn(*warn_args, **warn_kwargs)\n"
     ]
    },
    {
     "data": {
      "text/html": [
       "<div>\n",
       "<style scoped>\n",
       "    .dataframe tbody tr th:only-of-type {\n",
       "        vertical-align: middle;\n",
       "    }\n",
       "\n",
       "    .dataframe tbody tr th {\n",
       "        vertical-align: top;\n",
       "    }\n",
       "\n",
       "    .dataframe thead th {\n",
       "        text-align: right;\n",
       "    }\n",
       "</style>\n",
       "<table border=\"1\" class=\"dataframe\">\n",
       "  <thead>\n",
       "    <tr style=\"text-align: right;\">\n",
       "      <th></th>\n",
       "      <th>mean_fit_time</th>\n",
       "      <th>mean_score_time</th>\n",
       "      <th>mean_test_score</th>\n",
       "      <th>mean_train_score</th>\n",
       "      <th>param_estimator__C</th>\n",
       "      <th>params</th>\n",
       "      <th>rank_test_score</th>\n",
       "      <th>split0_test_score</th>\n",
       "      <th>split0_train_score</th>\n",
       "      <th>split1_test_score</th>\n",
       "      <th>...</th>\n",
       "      <th>split2_test_score</th>\n",
       "      <th>split2_train_score</th>\n",
       "      <th>split3_test_score</th>\n",
       "      <th>split3_train_score</th>\n",
       "      <th>split4_test_score</th>\n",
       "      <th>split4_train_score</th>\n",
       "      <th>std_fit_time</th>\n",
       "      <th>std_score_time</th>\n",
       "      <th>std_test_score</th>\n",
       "      <th>std_train_score</th>\n",
       "    </tr>\n",
       "  </thead>\n",
       "  <tbody>\n",
       "    <tr>\n",
       "      <th>0</th>\n",
       "      <td>23.683570</td>\n",
       "      <td>0.088276</td>\n",
       "      <td>0.672507</td>\n",
       "      <td>0.998567</td>\n",
       "      <td>0.005</td>\n",
       "      <td>{'estimator__C': 0.005}</td>\n",
       "      <td>1</td>\n",
       "      <td>0.657686</td>\n",
       "      <td>0.998804</td>\n",
       "      <td>0.679873</td>\n",
       "      <td>...</td>\n",
       "      <td>0.685215</td>\n",
       "      <td>0.999602</td>\n",
       "      <td>0.671451</td>\n",
       "      <td>0.998806</td>\n",
       "      <td>0.668277</td>\n",
       "      <td>0.998014</td>\n",
       "      <td>1.601084</td>\n",
       "      <td>0.019323</td>\n",
       "      <td>0.009549</td>\n",
       "      <td>0.000694</td>\n",
       "    </tr>\n",
       "    <tr>\n",
       "      <th>1</th>\n",
       "      <td>20.035204</td>\n",
       "      <td>0.078218</td>\n",
       "      <td>0.666454</td>\n",
       "      <td>0.998567</td>\n",
       "      <td>0.01</td>\n",
       "      <td>{'estimator__C': 0.01}</td>\n",
       "      <td>2</td>\n",
       "      <td>0.649762</td>\n",
       "      <td>0.998804</td>\n",
       "      <td>0.679873</td>\n",
       "      <td>...</td>\n",
       "      <td>0.672496</td>\n",
       "      <td>0.999602</td>\n",
       "      <td>0.658692</td>\n",
       "      <td>0.998408</td>\n",
       "      <td>0.671498</td>\n",
       "      <td>0.997617</td>\n",
       "      <td>0.556337</td>\n",
       "      <td>0.017603</td>\n",
       "      <td>0.010798</td>\n",
       "      <td>0.000645</td>\n",
       "    </tr>\n",
       "    <tr>\n",
       "      <th>2</th>\n",
       "      <td>19.821432</td>\n",
       "      <td>0.087963</td>\n",
       "      <td>0.656260</td>\n",
       "      <td>0.998567</td>\n",
       "      <td>0.05</td>\n",
       "      <td>{'estimator__C': 0.05}</td>\n",
       "      <td>3</td>\n",
       "      <td>0.641838</td>\n",
       "      <td>0.998804</td>\n",
       "      <td>0.673534</td>\n",
       "      <td>...</td>\n",
       "      <td>0.659777</td>\n",
       "      <td>0.999602</td>\n",
       "      <td>0.650718</td>\n",
       "      <td>0.998408</td>\n",
       "      <td>0.655395</td>\n",
       "      <td>0.997617</td>\n",
       "      <td>0.276459</td>\n",
       "      <td>0.009725</td>\n",
       "      <td>0.010514</td>\n",
       "      <td>0.000645</td>\n",
       "    </tr>\n",
       "    <tr>\n",
       "      <th>3</th>\n",
       "      <td>23.808737</td>\n",
       "      <td>0.112823</td>\n",
       "      <td>0.654030</td>\n",
       "      <td>0.996338</td>\n",
       "      <td>0.1</td>\n",
       "      <td>{'estimator__C': 0.1}</td>\n",
       "      <td>4</td>\n",
       "      <td>0.640254</td>\n",
       "      <td>0.998804</td>\n",
       "      <td>0.671949</td>\n",
       "      <td>...</td>\n",
       "      <td>0.672496</td>\n",
       "      <td>0.999203</td>\n",
       "      <td>0.623604</td>\n",
       "      <td>0.987261</td>\n",
       "      <td>0.661836</td>\n",
       "      <td>0.997617</td>\n",
       "      <td>2.143888</td>\n",
       "      <td>0.045154</td>\n",
       "      <td>0.019183</td>\n",
       "      <td>0.004569</td>\n",
       "    </tr>\n",
       "    <tr>\n",
       "      <th>4</th>\n",
       "      <td>24.094015</td>\n",
       "      <td>0.081058</td>\n",
       "      <td>0.652756</td>\n",
       "      <td>0.998089</td>\n",
       "      <td>1</td>\n",
       "      <td>{'estimator__C': 1}</td>\n",
       "      <td>5</td>\n",
       "      <td>0.637084</td>\n",
       "      <td>0.998804</td>\n",
       "      <td>0.668780</td>\n",
       "      <td>...</td>\n",
       "      <td>0.653418</td>\n",
       "      <td>0.998805</td>\n",
       "      <td>0.644338</td>\n",
       "      <td>0.997213</td>\n",
       "      <td>0.660225</td>\n",
       "      <td>0.997617</td>\n",
       "      <td>5.985179</td>\n",
       "      <td>0.029802</td>\n",
       "      <td>0.011237</td>\n",
       "      <td>0.000636</td>\n",
       "    </tr>\n",
       "  </tbody>\n",
       "</table>\n",
       "<p>5 rows × 21 columns</p>\n",
       "</div>"
      ],
      "text/plain": [
       "   mean_fit_time  mean_score_time  mean_test_score  mean_train_score  \\\n",
       "0      23.683570         0.088276         0.672507          0.998567   \n",
       "1      20.035204         0.078218         0.666454          0.998567   \n",
       "2      19.821432         0.087963         0.656260          0.998567   \n",
       "3      23.808737         0.112823         0.654030          0.996338   \n",
       "4      24.094015         0.081058         0.652756          0.998089   \n",
       "\n",
       "  param_estimator__C                   params  rank_test_score  \\\n",
       "0              0.005  {'estimator__C': 0.005}                1   \n",
       "1               0.01   {'estimator__C': 0.01}                2   \n",
       "2               0.05   {'estimator__C': 0.05}                3   \n",
       "3                0.1    {'estimator__C': 0.1}                4   \n",
       "4                  1      {'estimator__C': 1}                5   \n",
       "\n",
       "   split0_test_score  split0_train_score  split1_test_score       ...         \\\n",
       "0           0.657686            0.998804           0.679873       ...          \n",
       "1           0.649762            0.998804           0.679873       ...          \n",
       "2           0.641838            0.998804           0.673534       ...          \n",
       "3           0.640254            0.998804           0.671949       ...          \n",
       "4           0.637084            0.998804           0.668780       ...          \n",
       "\n",
       "   split2_test_score  split2_train_score  split3_test_score  \\\n",
       "0           0.685215            0.999602           0.671451   \n",
       "1           0.672496            0.999602           0.658692   \n",
       "2           0.659777            0.999602           0.650718   \n",
       "3           0.672496            0.999203           0.623604   \n",
       "4           0.653418            0.998805           0.644338   \n",
       "\n",
       "   split3_train_score  split4_test_score  split4_train_score  std_fit_time  \\\n",
       "0            0.998806           0.668277            0.998014      1.601084   \n",
       "1            0.998408           0.671498            0.997617      0.556337   \n",
       "2            0.998408           0.655395            0.997617      0.276459   \n",
       "3            0.987261           0.661836            0.997617      2.143888   \n",
       "4            0.997213           0.660225            0.997617      5.985179   \n",
       "\n",
       "   std_score_time  std_test_score  std_train_score  \n",
       "0        0.019323        0.009549         0.000694  \n",
       "1        0.017603        0.010798         0.000645  \n",
       "2        0.009725        0.010514         0.000645  \n",
       "3        0.045154        0.019183         0.004569  \n",
       "4        0.029802        0.011237         0.000636  \n",
       "\n",
       "[5 rows x 21 columns]"
      ]
     },
     "execution_count": 20,
     "metadata": {},
     "output_type": "execute_result"
    }
   ],
   "source": [
    "pd.DataFrame(model_tuning.cv_results_)"
   ]
  },
  {
   "cell_type": "code",
   "execution_count": 21,
   "metadata": {},
   "outputs": [
    {
     "data": {
      "text/plain": [
       "{'estimator__C': 0.005}"
      ]
     },
     "execution_count": 21,
     "metadata": {},
     "output_type": "execute_result"
    }
   ],
   "source": [
    "model_tuning.best_params_"
   ]
  },
  {
   "cell_type": "code",
   "execution_count": 22,
   "metadata": {},
   "outputs": [
    {
     "name": "stdout",
     "output_type": "stream",
     "text": [
      "Accuracy of Validation Set : 0.917910447761194\n",
      "==========================\n"
     ]
    }
   ],
   "source": [
    "y_pred_val = model_tuning.predict(X_val)\n",
    "print(\"Accuracy of Validation Set : {}\\n\"\n",
    "      \"==========================\".format(\n",
    "          accuracy_score(y_val, y_pred_val)))"
   ]
  },
  {
   "cell_type": "code",
   "execution_count": 18,
   "metadata": {},
   "outputs": [
    {
     "data": {
      "text/plain": [
       "0.8943894389438944"
      ]
     },
     "execution_count": 18,
     "metadata": {},
     "output_type": "execute_result"
    }
   ],
   "source": [
    "accuracy_score(y_test, model_tuning.predict(X_test))"
   ]
  },
  {
   "cell_type": "code",
   "execution_count": null,
   "metadata": {},
   "outputs": [],
   "source": []
  }
 ],
 "metadata": {
  "kernelspec": {
   "display_name": "Python 3",
   "language": "python",
   "name": "python3"
  },
  "language_info": {
   "codemirror_mode": {
    "name": "ipython",
    "version": 3
   },
   "file_extension": ".py",
   "mimetype": "text/x-python",
   "name": "python",
   "nbconvert_exporter": "python",
   "pygments_lexer": "ipython3",
   "version": "3.5.2"
  },
  "toc": {
   "base_numbering": 1,
   "nav_menu": {},
   "number_sections": true,
   "sideBar": true,
   "skip_h1_title": false,
   "title_cell": "Table of Contents",
   "title_sidebar": "Contents",
   "toc_cell": false,
   "toc_position": {},
   "toc_section_display": true,
   "toc_window_display": false
  },
  "varInspector": {
   "cols": {
    "lenName": 16,
    "lenType": 16,
    "lenVar": 40
   },
   "kernels_config": {
    "python": {
     "delete_cmd_postfix": "",
     "delete_cmd_prefix": "del ",
     "library": "var_list.py",
     "varRefreshCmd": "print(var_dic_list())"
    },
    "r": {
     "delete_cmd_postfix": ") ",
     "delete_cmd_prefix": "rm(",
     "library": "var_list.r",
     "varRefreshCmd": "cat(var_dic_list()) "
    }
   },
   "types_to_exclude": [
    "module",
    "function",
    "builtin_function_or_method",
    "instance",
    "_Feature"
   ],
   "window_display": false
  }
 },
 "nbformat": 4,
 "nbformat_minor": 2
}
