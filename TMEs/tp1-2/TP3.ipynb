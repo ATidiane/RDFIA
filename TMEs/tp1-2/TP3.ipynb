{
 "cells": [
  {
   "cell_type": "markdown",
   "metadata": {},
   "source": [
    "# Support Vector Machine"
   ]
  },
  {
   "cell_type": "markdown",
   "metadata": {},
   "source": [
    "## Imports"
   ]
  },
  {
   "cell_type": "markdown",
   "metadata": {},
   "source": [
    "### Python and Sys"
   ]
  },
  {
   "cell_type": "code",
   "execution_count": 84,
   "metadata": {},
   "outputs": [],
   "source": [
    "from tqdm.notebook import tqdm\n",
    "import numpy as np\n",
    "import pandas as pd\n",
    "import random"
   ]
  },
  {
   "cell_type": "markdown",
   "metadata": {},
   "source": [
    "###  Models and Visualisation"
   ]
  },
  {
   "cell_type": "code",
   "execution_count": 68,
   "metadata": {},
   "outputs": [],
   "source": [
    "import matplotlib\n",
    "import matplotlib.pyplot as plt\n",
    "%matplotlib inline  \n",
    "\n",
    "from sklearn.svm import SVC, LinearSVC\n",
    "from sklearn.multiclass import OneVsRestClassifier\n",
    "from sklearn.metrics import accuracy_score\n",
    "from sklearn.model_selection import GridSearchCV"
   ]
  },
  {
   "cell_type": "markdown",
   "metadata": {},
   "source": [
    "### Source files"
   ]
  },
  {
   "cell_type": "code",
   "execution_count": 60,
   "metadata": {},
   "outputs": [],
   "source": [
    "from tools import *"
   ]
  },
  {
   "cell_type": "markdown",
   "metadata": {},
   "source": [
    "## Loading and Splitting Data"
   ]
  },
  {
   "cell_type": "code",
   "execution_count": 2,
   "metadata": {},
   "outputs": [],
   "source": [
    "data = np.load(\"15_scenes_Xy.npz\", \"rb\")"
   ]
  },
  {
   "cell_type": "code",
   "execution_count": 42,
   "metadata": {},
   "outputs": [],
   "source": [
    "def train_val_test_split(data, train_size=0.7, val_size=0.1, seed=1337):\n",
    "    \"\"\"\n",
    "    \"\"\"\n",
    "    \n",
    "    X, y = data['X'], data['y']    \n",
    "    \n",
    "    train_ids, val_test_ids = compute_split(X.shape[0], pc=train_size, seed=seed)\n",
    "    val_ids,test_ids = compute_split(len(val_test_ids), pc=val_size)\n",
    "    \n",
    "    X_train, y_train = X[indexes[train_ids]], y[indexes[train_ids]]\n",
    "    X_val, y_val = X[indexes[val_ids]], y[indexes[val_ids]]\n",
    "    X_test, y_test = X[indexes[test_ids]], y[indexes[test_ids]]\n",
    "    \n",
    "    return X_train, X_val, X_test, y_train, y_val, y_test"
   ]
  },
  {
   "cell_type": "code",
   "execution_count": 43,
   "metadata": {},
   "outputs": [],
   "source": [
    "X_train, X_val, X_test, y_train, y_val, y_test = train_val_test_split(data)"
   ]
  },
  {
   "cell_type": "markdown",
   "metadata": {},
   "source": [
    "## Training SVM"
   ]
  },
  {
   "cell_type": "markdown",
   "metadata": {},
   "source": [
    "### C = 1"
   ]
  },
  {
   "cell_type": "code",
   "execution_count": 75,
   "metadata": {},
   "outputs": [],
   "source": [
    "ovr_linear_svc = OneVsRestClassifier(LinearSVC(random_state=42))\n",
    "ovr_linear_svc.fit(X_train, y_train);"
   ]
  },
  {
   "cell_type": "code",
   "execution_count": 76,
   "metadata": {},
   "outputs": [
    {
     "name": "stdout",
     "output_type": "stream",
     "text": [
      "Accuracy of Validation Set : 0.9328358208955224\n",
      "==========================\n"
     ]
    }
   ],
   "source": [
    "y_pred_val = ovr_linear_svc.predict(X_val)\n",
    "\n",
    "print(\"Accuracy of Validation Set : {}\\n\"\n",
    "      \"==========================\".format(\n",
    "          accuracy_score(y_val, y_pred_val)))"
   ]
  },
  {
   "cell_type": "markdown",
   "metadata": {},
   "source": [
    "### GridSearch"
   ]
  },
  {
   "cell_type": "code",
   "execution_count": 90,
   "metadata": {},
   "outputs": [],
   "source": [
    "ovr_linear_svc = OneVsRestClassifier(LinearSVC(random_state=42))\n",
    "params = {\"estimator__C\" : [0.01, 0.05, 0.1, 1, 5]}\n",
    "model_tuning = GridSearchCV(ovr_linear_svc, param_grid=params, cv=5, n_jobs=-1)\n",
    "model_tuning.fit(X_train, y_train);"
   ]
  },
  {
   "cell_type": "markdown",
   "metadata": {},
   "source": [
    "#### Best params"
   ]
  },
  {
   "cell_type": "code",
   "execution_count": 91,
   "metadata": {},
   "outputs": [
    {
     "name": "stderr",
     "output_type": "stream",
     "text": [
      "/usr/local/lib/python3.5/dist-packages/sklearn/utils/deprecation.py:122: FutureWarning: You are accessing a training score ('mean_train_score'), which will not be available by default any more in 0.21. If you need training scores, please set return_train_score=True\n",
      "  warnings.warn(*warn_args, **warn_kwargs)\n",
      "/usr/local/lib/python3.5/dist-packages/sklearn/utils/deprecation.py:122: FutureWarning: You are accessing a training score ('split0_train_score'), which will not be available by default any more in 0.21. If you need training scores, please set return_train_score=True\n",
      "  warnings.warn(*warn_args, **warn_kwargs)\n",
      "/usr/local/lib/python3.5/dist-packages/sklearn/utils/deprecation.py:122: FutureWarning: You are accessing a training score ('split1_train_score'), which will not be available by default any more in 0.21. If you need training scores, please set return_train_score=True\n",
      "  warnings.warn(*warn_args, **warn_kwargs)\n",
      "/usr/local/lib/python3.5/dist-packages/sklearn/utils/deprecation.py:122: FutureWarning: You are accessing a training score ('split2_train_score'), which will not be available by default any more in 0.21. If you need training scores, please set return_train_score=True\n",
      "  warnings.warn(*warn_args, **warn_kwargs)\n",
      "/usr/local/lib/python3.5/dist-packages/sklearn/utils/deprecation.py:122: FutureWarning: You are accessing a training score ('split3_train_score'), which will not be available by default any more in 0.21. If you need training scores, please set return_train_score=True\n",
      "  warnings.warn(*warn_args, **warn_kwargs)\n",
      "/usr/local/lib/python3.5/dist-packages/sklearn/utils/deprecation.py:122: FutureWarning: You are accessing a training score ('split4_train_score'), which will not be available by default any more in 0.21. If you need training scores, please set return_train_score=True\n",
      "  warnings.warn(*warn_args, **warn_kwargs)\n",
      "/usr/local/lib/python3.5/dist-packages/sklearn/utils/deprecation.py:122: FutureWarning: You are accessing a training score ('std_train_score'), which will not be available by default any more in 0.21. If you need training scores, please set return_train_score=True\n",
      "  warnings.warn(*warn_args, **warn_kwargs)\n"
     ]
    },
    {
     "data": {
      "text/html": [
       "<div>\n",
       "<style scoped>\n",
       "    .dataframe tbody tr th:only-of-type {\n",
       "        vertical-align: middle;\n",
       "    }\n",
       "\n",
       "    .dataframe tbody tr th {\n",
       "        vertical-align: top;\n",
       "    }\n",
       "\n",
       "    .dataframe thead th {\n",
       "        text-align: right;\n",
       "    }\n",
       "</style>\n",
       "<table border=\"1\" class=\"dataframe\">\n",
       "  <thead>\n",
       "    <tr style=\"text-align: right;\">\n",
       "      <th></th>\n",
       "      <th>mean_fit_time</th>\n",
       "      <th>mean_score_time</th>\n",
       "      <th>mean_test_score</th>\n",
       "      <th>mean_train_score</th>\n",
       "      <th>param_estimator__C</th>\n",
       "      <th>params</th>\n",
       "      <th>rank_test_score</th>\n",
       "      <th>split0_test_score</th>\n",
       "      <th>split0_train_score</th>\n",
       "      <th>split1_test_score</th>\n",
       "      <th>...</th>\n",
       "      <th>split2_test_score</th>\n",
       "      <th>split2_train_score</th>\n",
       "      <th>split3_test_score</th>\n",
       "      <th>split3_train_score</th>\n",
       "      <th>split4_test_score</th>\n",
       "      <th>split4_train_score</th>\n",
       "      <th>std_fit_time</th>\n",
       "      <th>std_score_time</th>\n",
       "      <th>std_test_score</th>\n",
       "      <th>std_train_score</th>\n",
       "    </tr>\n",
       "  </thead>\n",
       "  <tbody>\n",
       "    <tr>\n",
       "      <td>0</td>\n",
       "      <td>17.443486</td>\n",
       "      <td>0.093827</td>\n",
       "      <td>0.658809</td>\n",
       "      <td>0.998646</td>\n",
       "      <td>0.01</td>\n",
       "      <td>{'estimator__C': 0.01}</td>\n",
       "      <td>1</td>\n",
       "      <td>0.661392</td>\n",
       "      <td>0.998803</td>\n",
       "      <td>0.666667</td>\n",
       "      <td>...</td>\n",
       "      <td>0.633758</td>\n",
       "      <td>0.998407</td>\n",
       "      <td>0.686901</td>\n",
       "      <td>0.999204</td>\n",
       "      <td>0.645265</td>\n",
       "      <td>0.998808</td>\n",
       "      <td>0.439281</td>\n",
       "      <td>0.015050</td>\n",
       "      <td>0.018250</td>\n",
       "      <td>0.000407</td>\n",
       "    </tr>\n",
       "    <tr>\n",
       "      <td>1</td>\n",
       "      <td>17.616742</td>\n",
       "      <td>0.090472</td>\n",
       "      <td>0.651800</td>\n",
       "      <td>0.998885</td>\n",
       "      <td>0.05</td>\n",
       "      <td>{'estimator__C': 0.05}</td>\n",
       "      <td>2</td>\n",
       "      <td>0.659810</td>\n",
       "      <td>0.998404</td>\n",
       "      <td>0.658730</td>\n",
       "      <td>...</td>\n",
       "      <td>0.627389</td>\n",
       "      <td>0.998805</td>\n",
       "      <td>0.677316</td>\n",
       "      <td>0.998806</td>\n",
       "      <td>0.635634</td>\n",
       "      <td>0.998808</td>\n",
       "      <td>0.403865</td>\n",
       "      <td>0.021073</td>\n",
       "      <td>0.017986</td>\n",
       "      <td>0.000391</td>\n",
       "    </tr>\n",
       "    <tr>\n",
       "      <td>2</td>\n",
       "      <td>17.710073</td>\n",
       "      <td>0.107364</td>\n",
       "      <td>0.650844</td>\n",
       "      <td>0.997848</td>\n",
       "      <td>0.1</td>\n",
       "      <td>{'estimator__C': 0.1}</td>\n",
       "      <td>3</td>\n",
       "      <td>0.653481</td>\n",
       "      <td>0.994815</td>\n",
       "      <td>0.666667</td>\n",
       "      <td>...</td>\n",
       "      <td>0.617834</td>\n",
       "      <td>0.998009</td>\n",
       "      <td>0.674121</td>\n",
       "      <td>0.998806</td>\n",
       "      <td>0.642055</td>\n",
       "      <td>0.998808</td>\n",
       "      <td>0.574195</td>\n",
       "      <td>0.023983</td>\n",
       "      <td>0.019825</td>\n",
       "      <td>0.001548</td>\n",
       "    </tr>\n",
       "    <tr>\n",
       "      <td>3</td>\n",
       "      <td>17.444889</td>\n",
       "      <td>0.106006</td>\n",
       "      <td>0.646384</td>\n",
       "      <td>0.998726</td>\n",
       "      <td>1</td>\n",
       "      <td>{'estimator__C': 1}</td>\n",
       "      <td>5</td>\n",
       "      <td>0.648734</td>\n",
       "      <td>0.998803</td>\n",
       "      <td>0.665079</td>\n",
       "      <td>...</td>\n",
       "      <td>0.627389</td>\n",
       "      <td>0.998805</td>\n",
       "      <td>0.666134</td>\n",
       "      <td>0.999204</td>\n",
       "      <td>0.624398</td>\n",
       "      <td>0.998410</td>\n",
       "      <td>0.422002</td>\n",
       "      <td>0.043750</td>\n",
       "      <td>0.017809</td>\n",
       "      <td>0.000298</td>\n",
       "    </tr>\n",
       "    <tr>\n",
       "      <td>4</td>\n",
       "      <td>15.044263</td>\n",
       "      <td>0.054300</td>\n",
       "      <td>0.648296</td>\n",
       "      <td>0.998407</td>\n",
       "      <td>5</td>\n",
       "      <td>{'estimator__C': 5}</td>\n",
       "      <td>4</td>\n",
       "      <td>0.651899</td>\n",
       "      <td>0.998803</td>\n",
       "      <td>0.663492</td>\n",
       "      <td>...</td>\n",
       "      <td>0.624204</td>\n",
       "      <td>0.998009</td>\n",
       "      <td>0.669329</td>\n",
       "      <td>0.998806</td>\n",
       "      <td>0.632424</td>\n",
       "      <td>0.998013</td>\n",
       "      <td>4.118658</td>\n",
       "      <td>0.043380</td>\n",
       "      <td>0.017416</td>\n",
       "      <td>0.000355</td>\n",
       "    </tr>\n",
       "  </tbody>\n",
       "</table>\n",
       "<p>5 rows × 21 columns</p>\n",
       "</div>"
      ],
      "text/plain": [
       "   mean_fit_time  mean_score_time  mean_test_score  mean_train_score  \\\n",
       "0      17.443486         0.093827         0.658809          0.998646   \n",
       "1      17.616742         0.090472         0.651800          0.998885   \n",
       "2      17.710073         0.107364         0.650844          0.997848   \n",
       "3      17.444889         0.106006         0.646384          0.998726   \n",
       "4      15.044263         0.054300         0.648296          0.998407   \n",
       "\n",
       "  param_estimator__C                  params  rank_test_score  \\\n",
       "0               0.01  {'estimator__C': 0.01}                1   \n",
       "1               0.05  {'estimator__C': 0.05}                2   \n",
       "2                0.1   {'estimator__C': 0.1}                3   \n",
       "3                  1     {'estimator__C': 1}                5   \n",
       "4                  5     {'estimator__C': 5}                4   \n",
       "\n",
       "   split0_test_score  split0_train_score  split1_test_score  ...  \\\n",
       "0           0.661392            0.998803           0.666667  ...   \n",
       "1           0.659810            0.998404           0.658730  ...   \n",
       "2           0.653481            0.994815           0.666667  ...   \n",
       "3           0.648734            0.998803           0.665079  ...   \n",
       "4           0.651899            0.998803           0.663492  ...   \n",
       "\n",
       "   split2_test_score  split2_train_score  split3_test_score  \\\n",
       "0           0.633758            0.998407           0.686901   \n",
       "1           0.627389            0.998805           0.677316   \n",
       "2           0.617834            0.998009           0.674121   \n",
       "3           0.627389            0.998805           0.666134   \n",
       "4           0.624204            0.998009           0.669329   \n",
       "\n",
       "   split3_train_score  split4_test_score  split4_train_score  std_fit_time  \\\n",
       "0            0.999204           0.645265            0.998808      0.439281   \n",
       "1            0.998806           0.635634            0.998808      0.403865   \n",
       "2            0.998806           0.642055            0.998808      0.574195   \n",
       "3            0.999204           0.624398            0.998410      0.422002   \n",
       "4            0.998806           0.632424            0.998013      4.118658   \n",
       "\n",
       "   std_score_time  std_test_score  std_train_score  \n",
       "0        0.015050        0.018250         0.000407  \n",
       "1        0.021073        0.017986         0.000391  \n",
       "2        0.023983        0.019825         0.001548  \n",
       "3        0.043750        0.017809         0.000298  \n",
       "4        0.043380        0.017416         0.000355  \n",
       "\n",
       "[5 rows x 21 columns]"
      ]
     },
     "execution_count": 91,
     "metadata": {},
     "output_type": "execute_result"
    }
   ],
   "source": [
    "pd.DataFrame(model_tuning.cv_results_)"
   ]
  },
  {
   "cell_type": "code",
   "execution_count": 94,
   "metadata": {},
   "outputs": [
    {
     "data": {
      "text/plain": [
       "{'estimator__C': 0.01}"
      ]
     },
     "execution_count": 94,
     "metadata": {},
     "output_type": "execute_result"
    }
   ],
   "source": [
    "model_tuning.best_params_"
   ]
  },
  {
   "cell_type": "code",
   "execution_count": 95,
   "metadata": {},
   "outputs": [
    {
     "name": "stdout",
     "output_type": "stream",
     "text": [
      "Accuracy of Validation Set : 0.9328358208955224\n",
      "==========================\n"
     ]
    }
   ],
   "source": [
    "y_pred_val = model_tuning.predict(X_val)\n",
    "print(\"Accuracy of Validation Set : {}\\n\"\n",
    "      \"==========================\".format(\n",
    "          accuracy_score(y_val, y_pred_val)))"
   ]
  },
  {
   "cell_type": "code",
   "execution_count": null,
   "metadata": {},
   "outputs": [],
   "source": []
  }
 ],
 "metadata": {
  "kernelspec": {
   "display_name": "Python 3",
   "language": "python",
   "name": "python3"
  },
  "language_info": {
   "codemirror_mode": {
    "name": "ipython",
    "version": 3
   },
   "file_extension": ".py",
   "mimetype": "text/x-python",
   "name": "python",
   "nbconvert_exporter": "python",
   "pygments_lexer": "ipython3",
   "version": "3.5.3"
  },
  "toc": {
   "base_numbering": 1,
   "nav_menu": {},
   "number_sections": true,
   "sideBar": true,
   "skip_h1_title": false,
   "title_cell": "Table of Contents",
   "title_sidebar": "Contents",
   "toc_cell": false,
   "toc_position": {},
   "toc_section_display": true,
   "toc_window_display": false
  }
 },
 "nbformat": 4,
 "nbformat_minor": 2
}
